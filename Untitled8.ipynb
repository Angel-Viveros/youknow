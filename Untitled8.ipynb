{
  "nbformat": 4,
  "nbformat_minor": 0,
  "metadata": {
    "colab": {
      "name": "Untitled8.ipynb",
      "provenance": []
    },
    "kernelspec": {
      "name": "python3",
      "display_name": "Python 3"
    },
    "language_info": {
      "name": "python"
    }
  },
  "cells": [
    {
      "cell_type": "code",
      "metadata": {
        "colab": {
          "base_uri": "https://localhost:8080/"
        },
        "id": "vWu-ettUO0hm",
        "outputId": "a24b6a85-0a5d-4940-f71e-d427b4464ec3"
      },
      "source": [
        "import numpy\n",
        "m=int(input('insertar el numero de renglones:'))\n",
        "n=int(input('inserta el numero de columnas:'))\n",
        "matrix=numpy.zeros((m,n))\n",
        "x=numpy.zeros((m))\n",
        "\n",
        "vector=numpy.zeros((n))\n",
        "comp=numpy.zeros((m))\n",
        "error=[]\n",
        "\n",
        "print('-----------------------------------------')\n",
        "print('        Metodo de Gauss-Seidel')\n",
        "print('-----------------------------------------')\n",
        "print('Introduce la matriz ')\n",
        "for r in range(0,m):\n",
        "    for c in range(0,n):\n",
        "        matrix[(r),(c)]=float(input(\"Elemento a[\" +str(r+1)+str(c+1)+\"]:\"))\n",
        "    vector[(r)]=float(input('b['+str(r+1)+']:'))\n",
        "tol =float(input(\"¿Cuanto error desea?\"))\n",
        "itera=int(input(\"¿Cuál es el número maximo de iteraciones\"))\n",
        "    #metodo\n",
        "k=0\n",
        "while k < itera:\n",
        "    suma=0\n",
        "    k=k+1\n",
        "    for r in range(0,m):\n",
        "        suma=0\n",
        "        for c in range(0,n):\n",
        "            if(c != r):\n",
        "               suma=suma+matrix[r,c]*x[c]\n",
        "        x[r]=(vector[r]-suma)/matrix[r,r]\n",
        "        print(\"x[\"+str(r)+\"]:\"+str(x[r]))\n",
        "    del error[:]\n",
        "\n",
        "           #error\n",
        "    for r in range(0,m):\n",
        "        suma=0\n",
        "        for c in range(0,n):\n",
        "            suma=suma+matrix[r,c]*x[c]\n",
        "        comp[r]=suma\n",
        "        dif=abs(comp[r]-vector[r])\n",
        "        error.append(dif)\n",
        "        print(\"Error en x[\",r,\"]=\",error[r])\n",
        "    print(\"Interaciones:\",k)\n",
        "    if all(i<=tol for i in error)== True:\n",
        "        break"
      ],
      "execution_count": 45,
      "outputs": [
        {
          "output_type": "stream",
          "name": "stdout",
          "text": [
            "insertar el numero de renglones:3\n",
            "inserta el numero de columnas:3\n",
            "-----------------------------------------\n",
            "        Metodo de Gauss-Seidel\n",
            "-----------------------------------------\n",
            "Introduce la matriz \n",
            "Elemento a[11]:2\n",
            "Elemento a[12]:3\n",
            "Elemento a[13]:4\n",
            "b[1]:5\n",
            "Elemento a[21]:2\n",
            "Elemento a[22]:3\n",
            "Elemento a[23]:4\n",
            "b[2]:5\n",
            "Elemento a[31]:2\n",
            "Elemento a[32]:3\n",
            "Elemento a[33]:4\n",
            "b[3]:5\n",
            "¿Cuanto error desea?2\n",
            "¿Cuál es el número maximo de iteraciones1\n",
            "x[0]:2.5\n",
            "x[1]:0.0\n",
            "x[2]:0.0\n",
            "Error en x[ 0 ]= 0.0\n",
            "Error en x[ 1 ]= 0.0\n",
            "Error en x[ 2 ]= 0.0\n",
            "Interaciones: 1\n"
          ]
        }
      ]
    }
  ]
}